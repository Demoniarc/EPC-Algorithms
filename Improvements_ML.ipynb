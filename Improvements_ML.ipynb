{
 "cells": [
  {
   "cell_type": "code",
   "execution_count": 1,
   "id": "95734bb2",
   "metadata": {},
   "outputs": [],
   "source": [
    "import pandas as pd\n",
    "import numpy as np\n",
    "import matplotlib.pyplot as plt\n",
    "from sklearn.model_selection import train_test_split        \n",
    "from sklearn.model_selection import cross_val_score"
   ]
  },
  {
   "cell_type": "markdown",
   "id": "54b70e2a",
   "metadata": {},
   "source": [
    "# Data"
   ]
  },
  {
   "cell_type": "code",
   "execution_count": 2,
   "id": "97c48312",
   "metadata": {},
   "outputs": [],
   "source": [
    "property_type = pd.read_csv('property_type.csv', sep=',', header=0)\n",
    "floor_area = pd.read_csv('floor_area.csv', sep=',', header=0)\n",
    "construction_age = pd.read_csv('construction_age.csv', sep=',', header=0)\n",
    "wall_description = pd.read_csv('wall_description.csv', sep=',', header=0)    \n",
    "roof_description = pd.read_csv('roof_description.csv', sep=',', header=0)    \n",
    "floor_description = pd.read_csv('floor_description.csv', sep=',', header=0)\n",
    "windows_description = pd.read_csv('windows_description.csv', sep=',', header=0)\n",
    "mainheat_description = pd.read_csv('mainheat_description.csv', sep=',', header=0)\n",
    "lighting_description = pd.read_csv('lighting_description.csv', sep=',', header=0)\n",
    "hotwater_description = pd.read_csv('hotwater_description.csv', sep=',', header=0)\n",
    "\n",
    "improvements = pd.read_csv('improvements.csv', sep=',', header=0)\n"
   ]
  },
  {
   "cell_type": "code",
   "execution_count": 3,
   "id": "59efdf4b",
   "metadata": {},
   "outputs": [],
   "source": [
    "X = pd.concat([property_type, construction_age, wall_description, roof_description, floor_description, windows_description, mainheat_description, lighting_description, hotwater_description],axis=1)"
   ]
  },
  {
   "cell_type": "code",
   "execution_count": 4,
   "id": "a6fe536c",
   "metadata": {},
   "outputs": [
    {
     "data": {
      "text/html": [
       "<div>\n",
       "<style scoped>\n",
       "    .dataframe tbody tr th:only-of-type {\n",
       "        vertical-align: middle;\n",
       "    }\n",
       "\n",
       "    .dataframe tbody tr th {\n",
       "        vertical-align: top;\n",
       "    }\n",
       "\n",
       "    .dataframe thead th {\n",
       "        text-align: right;\n",
       "    }\n",
       "</style>\n",
       "<table border=\"1\" class=\"dataframe\">\n",
       "  <thead>\n",
       "    <tr style=\"text-align: right;\">\n",
       "      <th></th>\n",
       "      <th>Bungalow</th>\n",
       "      <th>Flat</th>\n",
       "      <th>House</th>\n",
       "      <th>Maisonette</th>\n",
       "      <th>Park home</th>\n",
       "      <th>1919-1929</th>\n",
       "      <th>1930-1949</th>\n",
       "      <th>1950-1964</th>\n",
       "      <th>1965-1975</th>\n",
       "      <th>1976-1983</th>\n",
       "      <th>...</th>\n",
       "      <th>No system present: electric immersion assumed</th>\n",
       "      <th>Oil boiler/circulator</th>\n",
       "      <th>Oil boiler/circulator, no cylinder thermostat</th>\n",
       "      <th>Oil range cooker</th>\n",
       "      <th>Oil range cooker, no cylinder thermostat</th>\n",
       "      <th>Solid fuel boiler/circulator</th>\n",
       "      <th>Solid fuel boiler/circulator, no cylinder thermostat</th>\n",
       "      <th>Solid fuel boiler/circulator, plus solar</th>\n",
       "      <th>Solid fuel range cooker</th>\n",
       "      <th>Solid fuel range cooker, no cylinder thermostat</th>\n",
       "    </tr>\n",
       "  </thead>\n",
       "  <tbody>\n",
       "    <tr>\n",
       "      <th>0</th>\n",
       "      <td>0</td>\n",
       "      <td>0</td>\n",
       "      <td>1</td>\n",
       "      <td>0</td>\n",
       "      <td>0</td>\n",
       "      <td>0</td>\n",
       "      <td>1</td>\n",
       "      <td>0</td>\n",
       "      <td>0</td>\n",
       "      <td>0</td>\n",
       "      <td>...</td>\n",
       "      <td>0</td>\n",
       "      <td>0</td>\n",
       "      <td>0</td>\n",
       "      <td>0</td>\n",
       "      <td>0</td>\n",
       "      <td>0</td>\n",
       "      <td>0</td>\n",
       "      <td>0</td>\n",
       "      <td>0</td>\n",
       "      <td>0</td>\n",
       "    </tr>\n",
       "    <tr>\n",
       "      <th>1</th>\n",
       "      <td>0</td>\n",
       "      <td>0</td>\n",
       "      <td>1</td>\n",
       "      <td>0</td>\n",
       "      <td>0</td>\n",
       "      <td>1</td>\n",
       "      <td>0</td>\n",
       "      <td>0</td>\n",
       "      <td>0</td>\n",
       "      <td>0</td>\n",
       "      <td>...</td>\n",
       "      <td>0</td>\n",
       "      <td>0</td>\n",
       "      <td>0</td>\n",
       "      <td>0</td>\n",
       "      <td>0</td>\n",
       "      <td>0</td>\n",
       "      <td>0</td>\n",
       "      <td>0</td>\n",
       "      <td>0</td>\n",
       "      <td>0</td>\n",
       "    </tr>\n",
       "    <tr>\n",
       "      <th>2</th>\n",
       "      <td>0</td>\n",
       "      <td>1</td>\n",
       "      <td>0</td>\n",
       "      <td>0</td>\n",
       "      <td>0</td>\n",
       "      <td>0</td>\n",
       "      <td>0</td>\n",
       "      <td>0</td>\n",
       "      <td>1</td>\n",
       "      <td>0</td>\n",
       "      <td>...</td>\n",
       "      <td>0</td>\n",
       "      <td>0</td>\n",
       "      <td>0</td>\n",
       "      <td>0</td>\n",
       "      <td>0</td>\n",
       "      <td>0</td>\n",
       "      <td>0</td>\n",
       "      <td>0</td>\n",
       "      <td>0</td>\n",
       "      <td>0</td>\n",
       "    </tr>\n",
       "    <tr>\n",
       "      <th>3</th>\n",
       "      <td>0</td>\n",
       "      <td>0</td>\n",
       "      <td>1</td>\n",
       "      <td>0</td>\n",
       "      <td>0</td>\n",
       "      <td>0</td>\n",
       "      <td>0</td>\n",
       "      <td>0</td>\n",
       "      <td>0</td>\n",
       "      <td>0</td>\n",
       "      <td>...</td>\n",
       "      <td>0</td>\n",
       "      <td>0</td>\n",
       "      <td>0</td>\n",
       "      <td>0</td>\n",
       "      <td>0</td>\n",
       "      <td>0</td>\n",
       "      <td>0</td>\n",
       "      <td>0</td>\n",
       "      <td>0</td>\n",
       "      <td>0</td>\n",
       "    </tr>\n",
       "    <tr>\n",
       "      <th>4</th>\n",
       "      <td>0</td>\n",
       "      <td>1</td>\n",
       "      <td>0</td>\n",
       "      <td>0</td>\n",
       "      <td>0</td>\n",
       "      <td>0</td>\n",
       "      <td>0</td>\n",
       "      <td>0</td>\n",
       "      <td>0</td>\n",
       "      <td>0</td>\n",
       "      <td>...</td>\n",
       "      <td>0</td>\n",
       "      <td>0</td>\n",
       "      <td>0</td>\n",
       "      <td>0</td>\n",
       "      <td>0</td>\n",
       "      <td>0</td>\n",
       "      <td>0</td>\n",
       "      <td>0</td>\n",
       "      <td>0</td>\n",
       "      <td>0</td>\n",
       "    </tr>\n",
       "  </tbody>\n",
       "</table>\n",
       "<p>5 rows × 3133 columns</p>\n",
       "</div>"
      ],
      "text/plain": [
       "   Bungalow  Flat  House  Maisonette  Park home  1919-1929  1930-1949  \\\n",
       "0         0     0      1           0          0          0          1   \n",
       "1         0     0      1           0          0          1          0   \n",
       "2         0     1      0           0          0          0          0   \n",
       "3         0     0      1           0          0          0          0   \n",
       "4         0     1      0           0          0          0          0   \n",
       "\n",
       "   1950-1964  1965-1975  1976-1983  ...  \\\n",
       "0          0          0          0  ...   \n",
       "1          0          0          0  ...   \n",
       "2          0          1          0  ...   \n",
       "3          0          0          0  ...   \n",
       "4          0          0          0  ...   \n",
       "\n",
       "   No system present: electric immersion assumed  Oil boiler/circulator  \\\n",
       "0                                              0                      0   \n",
       "1                                              0                      0   \n",
       "2                                              0                      0   \n",
       "3                                              0                      0   \n",
       "4                                              0                      0   \n",
       "\n",
       "   Oil boiler/circulator, no cylinder thermostat  Oil range cooker  \\\n",
       "0                                              0                 0   \n",
       "1                                              0                 0   \n",
       "2                                              0                 0   \n",
       "3                                              0                 0   \n",
       "4                                              0                 0   \n",
       "\n",
       "   Oil range cooker, no cylinder thermostat  Solid fuel boiler/circulator  \\\n",
       "0                                         0                             0   \n",
       "1                                         0                             0   \n",
       "2                                         0                             0   \n",
       "3                                         0                             0   \n",
       "4                                         0                             0   \n",
       "\n",
       "   Solid fuel boiler/circulator, no cylinder thermostat  \\\n",
       "0                                                  0      \n",
       "1                                                  0      \n",
       "2                                                  0      \n",
       "3                                                  0      \n",
       "4                                                  0      \n",
       "\n",
       "   Solid fuel boiler/circulator, plus solar  Solid fuel range cooker  \\\n",
       "0                                         0                        0   \n",
       "1                                         0                        0   \n",
       "2                                         0                        0   \n",
       "3                                         0                        0   \n",
       "4                                         0                        0   \n",
       "\n",
       "   Solid fuel range cooker, no cylinder thermostat  \n",
       "0                                                0  \n",
       "1                                                0  \n",
       "2                                                0  \n",
       "3                                                0  \n",
       "4                                                0  \n",
       "\n",
       "[5 rows x 3133 columns]"
      ]
     },
     "execution_count": 4,
     "metadata": {},
     "output_type": "execute_result"
    }
   ],
   "source": [
    "X.head()"
   ]
  },
  {
   "cell_type": "markdown",
   "id": "d79ec5fd",
   "metadata": {},
   "source": [
    "# ML Model    "
   ]
  },
  {
   "cell_type": "code",
   "execution_count": 5,
   "id": "4797030f",
   "metadata": {},
   "outputs": [],
   "source": [
    "X2 = X.astype(np.int8)  \n",
    "X = X.astype(np.int8).to_numpy() "
   ]
  },
  {
   "cell_type": "code",
   "execution_count": 6,
   "id": "96ffc68a",
   "metadata": {},
   "outputs": [],
   "source": [
    "from sklearn.tree import DecisionTreeClassifier  "
   ]
  },
  {
   "cell_type": "code",
   "execution_count": 9,
   "id": "849f132d",
   "metadata": {},
   "outputs": [],
   "source": [
    "depth = 10"
   ]
  },
  {
   "cell_type": "code",
   "execution_count": 10,
   "id": "f2060706",
   "metadata": {},
   "outputs": [
    {
     "data": {
      "text/plain": [
       "0.9648724600086468"
      ]
     },
     "execution_count": 10,
     "metadata": {},
     "output_type": "execute_result"
    }
   ],
   "source": [
    "model_0 = DecisionTreeClassifier(max_depth=depth)   \n",
    "y_0 = improvements[['0']].astype(np.int8)\n",
    "X_train, X_test, y_0_train, y_0_test = train_test_split(X, y_0, test_size=0.1, random_state=10)\n",
    "model_0.fit(X_train, y_0_train) \n",
    "model_0.score(X_test, y_0_test)  "
   ]
  },
  {
   "cell_type": "code",
   "execution_count": null,
   "id": "f4429bba",
   "metadata": {},
   "outputs": [],
   "source": [
    "    "
   ]
  },
  {
   "cell_type": "code",
   "execution_count": 11,
   "id": "827bf578",
   "metadata": {},
   "outputs": [
    {
     "data": {
      "text/plain": [
       "0.9814094249891915"
      ]
     },
     "execution_count": 11,
     "metadata": {},
     "output_type": "execute_result"
    }
   ],
   "source": [
    "model_1 = DecisionTreeClassifier(max_depth=depth)   \n",
    "y_1 = improvements[['1']].astype(np.int8)\n",
    "X_train, X_test, y_1_train, y_1_test = train_test_split(X, y_1, test_size=0.1, random_state=10)\n",
    "model_1.fit(X_train, y_1_train) \n",
    "model_1.score(X_test, y_1_test)  "
   ]
  },
  {
   "cell_type": "code",
   "execution_count": null,
   "id": "fbdc0354",
   "metadata": {},
   "outputs": [],
   "source": []
  },
  {
   "cell_type": "code",
   "execution_count": 12,
   "id": "d1b6c81b",
   "metadata": {},
   "outputs": [
    {
     "data": {
      "text/plain": [
       "0.9914072632944229"
      ]
     },
     "execution_count": 12,
     "metadata": {},
     "output_type": "execute_result"
    }
   ],
   "source": [
    "model_2 = DecisionTreeClassifier(max_depth=depth)   \n",
    "y_2 = improvements[['2']].astype(np.int8)\n",
    "X_train, X_test, y_2_train, y_2_test = train_test_split(X, y_2, test_size=0.1, random_state=10)\n",
    "model_2.fit(X_train, y_2_train) \n",
    "model_2.score(X_test, y_2_test)  "
   ]
  },
  {
   "cell_type": "code",
   "execution_count": null,
   "id": "2f0728d9",
   "metadata": {},
   "outputs": [],
   "source": []
  },
  {
   "cell_type": "code",
   "execution_count": 13,
   "id": "d055d66a",
   "metadata": {},
   "outputs": [
    {
     "data": {
      "text/plain": [
       "0.9998919152615651"
      ]
     },
     "execution_count": 13,
     "metadata": {},
     "output_type": "execute_result"
    }
   ],
   "source": [
    "model_3 = DecisionTreeClassifier(max_depth=depth)   \n",
    "y_3 = improvements[['3']].astype(np.int8)    \n",
    "X_train, X_test, y_3_train, y_3_test = train_test_split(X, y_3, test_size=0.1, random_state=10)\n",
    "model_3.fit(X_train, y_3_train) \n",
    "model_3.score(X_test, y_3_test)  "
   ]
  },
  {
   "cell_type": "code",
   "execution_count": null,
   "id": "0a6e0996",
   "metadata": {},
   "outputs": [],
   "source": []
  },
  {
   "cell_type": "code",
   "execution_count": 14,
   "id": "a6679011",
   "metadata": {},
   "outputs": [
    {
     "data": {
      "text/plain": [
       "0.9988110678772157"
      ]
     },
     "execution_count": 14,
     "metadata": {},
     "output_type": "execute_result"
    }
   ],
   "source": [
    "model_4 = DecisionTreeClassifier(max_depth=depth)   \n",
    "y_4 = improvements[['4']].astype(np.int8)\n",
    "X_train, X_test, y_4_train, y_4_test = train_test_split(X, y_4, test_size=0.1, random_state=10)\n",
    "model_4.fit(X_train, y_4_train) \n",
    "model_4.score(X_test, y_4_test)  "
   ]
  },
  {
   "cell_type": "code",
   "execution_count": null,
   "id": "4613bdbc",
   "metadata": {},
   "outputs": [],
   "source": []
  },
  {
   "cell_type": "code",
   "execution_count": 15,
   "id": "db0957bd",
   "metadata": {},
   "outputs": [
    {
     "data": {
      "text/plain": [
       "1.0"
      ]
     },
     "execution_count": 15,
     "metadata": {},
     "output_type": "execute_result"
    }
   ],
   "source": [
    "model_5 = DecisionTreeClassifier(max_depth=depth)   \n",
    "y_5 = improvements[['5']].astype(np.int8)\n",
    "X_train, X_test, y_5_train, y_5_test = train_test_split(X, y_5, test_size=0.1, random_state=10)\n",
    "model_5.fit(X_train, y_5_train) \n",
    "model_5.score(X_test, y_5_test)  "
   ]
  },
  {
   "cell_type": "code",
   "execution_count": null,
   "id": "bfe8e880",
   "metadata": {},
   "outputs": [],
   "source": []
  },
  {
   "cell_type": "code",
   "execution_count": 16,
   "id": "d8d40c6e",
   "metadata": {},
   "outputs": [
    {
     "data": {
      "text/plain": [
       "0.9770319930825767"
      ]
     },
     "execution_count": 16,
     "metadata": {},
     "output_type": "execute_result"
    }
   ],
   "source": [
    "model_6 = DecisionTreeClassifier(max_depth=depth)   \n",
    "y_6 = improvements[['6']].astype(np.int8)    \n",
    "X_train, X_test, y_6_train, y_6_test = train_test_split(X, y_6, test_size=0.1, random_state=10)\n",
    "model_6.fit(X_train, y_6_train) \n",
    "model_6.score(X_test, y_6_test)  "
   ]
  },
  {
   "cell_type": "code",
   "execution_count": null,
   "id": "6cef9882",
   "metadata": {},
   "outputs": [],
   "source": []
  },
  {
   "cell_type": "code",
   "execution_count": 17,
   "id": "96d91f89",
   "metadata": {},
   "outputs": [
    {
     "data": {
      "text/plain": [
       "0.9776805015131863"
      ]
     },
     "execution_count": 17,
     "metadata": {},
     "output_type": "execute_result"
    }
   ],
   "source": [
    "model_7 = DecisionTreeClassifier(max_depth=depth)   \n",
    "y_7 = improvements[['7']].astype(np.int8)\n",
    "X_train, X_test, y_7_train, y_7_test = train_test_split(X, y_7, test_size=0.1, random_state=10)\n",
    "model_7.fit(X_train, y_7_train) \n",
    "model_7.score(X_test, y_7_test)  "
   ]
  },
  {
   "cell_type": "code",
   "execution_count": null,
   "id": "3065e61e",
   "metadata": {},
   "outputs": [],
   "source": []
  },
  {
   "cell_type": "code",
   "execution_count": 18,
   "id": "5f168c21",
   "metadata": {},
   "outputs": [
    {
     "data": {
      "text/plain": [
       "0.9816255944660613"
      ]
     },
     "execution_count": 18,
     "metadata": {},
     "output_type": "execute_result"
    }
   ],
   "source": [
    "model_8 = DecisionTreeClassifier(max_depth=depth)   \n",
    "y_8 = improvements[['8']].astype(np.int8)\n",
    "X_train, X_test, y_8_train, y_8_test = train_test_split(X, y_8, test_size=0.1, random_state=10)\n",
    "model_8.fit(X_train, y_8_train) \n",
    "model_8.score(X_test, y_8_test)  "
   ]
  },
  {
   "cell_type": "code",
   "execution_count": null,
   "id": "ee56d2a3",
   "metadata": {},
   "outputs": [],
   "source": []
  },
  {
   "cell_type": "code",
   "execution_count": 19,
   "id": "b5596802",
   "metadata": {},
   "outputs": [
    {
     "data": {
      "text/plain": [
       "0.9731949848681366"
      ]
     },
     "execution_count": 19,
     "metadata": {},
     "output_type": "execute_result"
    }
   ],
   "source": [
    "model_9 = DecisionTreeClassifier(max_depth=depth)   \n",
    "y_9 = improvements[['9']].astype(np.int8)\n",
    "X_train, X_test, y_9_train, y_9_test = train_test_split(X, y_9, test_size=0.1, random_state=10)\n",
    "model_9.fit(X_train, y_9_train) \n",
    "model_9.score(X_test, y_9_test)  "
   ]
  },
  {
   "cell_type": "code",
   "execution_count": null,
   "id": "8ba6a9b3",
   "metadata": {},
   "outputs": [],
   "source": []
  },
  {
   "cell_type": "code",
   "execution_count": 20,
   "id": "52aad77d",
   "metadata": {},
   "outputs": [
    {
     "data": {
      "text/plain": [
       "0.9850843060959793"
      ]
     },
     "execution_count": 20,
     "metadata": {},
     "output_type": "execute_result"
    }
   ],
   "source": [
    "model_10 = DecisionTreeClassifier(max_depth=depth)   \n",
    "y_10 = improvements[['10']].astype(np.int8)\n",
    "X_train, X_test, y_10_train, y_10_test = train_test_split(X, y_10, test_size=0.1, random_state=10)\n",
    "model_10.fit(X_train, y_10_train) \n",
    "model_10.score(X_test, y_10_test)  "
   ]
  },
  {
   "cell_type": "code",
   "execution_count": null,
   "id": "d595660f",
   "metadata": {},
   "outputs": [],
   "source": []
  },
  {
   "cell_type": "code",
   "execution_count": 21,
   "id": "8b106109",
   "metadata": {},
   "outputs": [
    {
     "data": {
      "text/plain": [
       "0.987948551664505"
      ]
     },
     "execution_count": 21,
     "metadata": {},
     "output_type": "execute_result"
    }
   ],
   "source": [
    "model_11 = DecisionTreeClassifier(max_depth=depth)   \n",
    "y_11 = improvements[['11']].astype(np.int8)    \n",
    "X_train, X_test, y_11_train, y_11_test = train_test_split(X, y_11, test_size=0.1, random_state=10)\n",
    "model_11.fit(X_train, y_11_train) \n",
    "model_11.score(X_test, y_11_test)  "
   ]
  },
  {
   "cell_type": "code",
   "execution_count": null,
   "id": "0d44a987",
   "metadata": {},
   "outputs": [],
   "source": []
  },
  {
   "cell_type": "code",
   "execution_count": 22,
   "id": "4cc2777b",
   "metadata": {},
   "outputs": [
    {
     "data": {
      "text/plain": [
       "0.9759511456982274"
      ]
     },
     "execution_count": 22,
     "metadata": {},
     "output_type": "execute_result"
    }
   ],
   "source": [
    "model_12 = DecisionTreeClassifier(max_depth=depth)   \n",
    "y_12 = improvements[['12']].astype(np.int8)\n",
    "X_train, X_test, y_12_train, y_12_test = train_test_split(X, y_12, test_size=0.1, random_state=10)\n",
    "model_12.fit(X_train, y_12_train) \n",
    "model_12.score(X_test, y_12_test)  "
   ]
  },
  {
   "cell_type": "code",
   "execution_count": null,
   "id": "7ed40483",
   "metadata": {},
   "outputs": [],
   "source": []
  },
  {
   "cell_type": "code",
   "execution_count": 23,
   "id": "9a64bffc",
   "metadata": {},
   "outputs": [
    {
     "data": {
      "text/plain": [
       "0.9647103329009944"
      ]
     },
     "execution_count": 23,
     "metadata": {},
     "output_type": "execute_result"
    }
   ],
   "source": [
    "model_13 = DecisionTreeClassifier(max_depth=depth)   \n",
    "y_13 = improvements[['13']].astype(np.int8)\n",
    "X_train, X_test, y_13_train, y_13_test = train_test_split(X, y_13, test_size=0.1, random_state=10)\n",
    "model_13.fit(X_train, y_13_train) \n",
    "model_13.score(X_test, y_13_test)  "
   ]
  },
  {
   "cell_type": "code",
   "execution_count": null,
   "id": "17b1c9b4",
   "metadata": {},
   "outputs": [],
   "source": []
  },
  {
   "cell_type": "code",
   "execution_count": 24,
   "id": "a98661dc",
   "metadata": {},
   "outputs": [
    {
     "data": {
      "text/plain": [
       "0.984814094249892"
      ]
     },
     "execution_count": 24,
     "metadata": {},
     "output_type": "execute_result"
    }
   ],
   "source": [
    "model_14 = DecisionTreeClassifier(max_depth=depth)   \n",
    "y_14 = improvements[['14']].astype(np.int8)\n",
    "X_train, X_test, y_14_train, y_14_test = train_test_split(X, y_14, test_size=0.1, random_state=10)\n",
    "model_14.fit(X_train, y_14_train) \n",
    "model_14.score(X_test, y_14_test)  "
   ]
  },
  {
   "cell_type": "code",
   "execution_count": null,
   "id": "2e40815c",
   "metadata": {},
   "outputs": [],
   "source": []
  },
  {
   "cell_type": "code",
   "execution_count": 25,
   "id": "3b699d9d",
   "metadata": {},
   "outputs": [
    {
     "data": {
      "text/plain": [
       "0.9832468655425853"
      ]
     },
     "execution_count": 25,
     "metadata": {},
     "output_type": "execute_result"
    }
   ],
   "source": [
    "model_15 = DecisionTreeClassifier(max_depth=depth)   \n",
    "y_15 = improvements[['15']].astype(np.int8)\n",
    "X_train, X_test, y_15_train, y_15_test = train_test_split(X, y_15, test_size=0.1, random_state=10)\n",
    "model_15.fit(X_train, y_15_train) \n",
    "model_15.score(X_test, y_15_test)  "
   ]
  },
  {
   "cell_type": "code",
   "execution_count": null,
   "id": "f52cb08e",
   "metadata": {},
   "outputs": [],
   "source": []
  },
  {
   "cell_type": "code",
   "execution_count": 26,
   "id": "43c506be",
   "metadata": {},
   "outputs": [
    {
     "data": {
      "text/plain": [
       "0.9815175097276264"
      ]
     },
     "execution_count": 26,
     "metadata": {},
     "output_type": "execute_result"
    }
   ],
   "source": [
    "model_16 = DecisionTreeClassifier(max_depth=depth)   \n",
    "y_16 = improvements[['16']].astype(np.int8)\n",
    "X_train, X_test, y_16_train, y_16_test = train_test_split(X, y_16, test_size=0.1, random_state=10)\n",
    "model_16.fit(X_train, y_16_train) \n",
    "model_16.score(X_test, y_16_test)  "
   ]
  },
  {
   "cell_type": "code",
   "execution_count": null,
   "id": "132b7862",
   "metadata": {},
   "outputs": [],
   "source": []
  },
  {
   "cell_type": "code",
   "execution_count": 27,
   "id": "0d0fa457",
   "metadata": {},
   "outputs": [
    {
     "data": {
      "text/plain": [
       "0.9774643320363164"
      ]
     },
     "execution_count": 27,
     "metadata": {},
     "output_type": "execute_result"
    }
   ],
   "source": [
    "model_17 = DecisionTreeClassifier(max_depth=depth)   \n",
    "y_17 = improvements[['17']].astype(np.int8)\n",
    "X_train, X_test, y_17_train, y_17_test = train_test_split(X, y_17, test_size=0.1, random_state=10)\n",
    "model_17.fit(X_train, y_17_train) \n",
    "model_17.score(X_test, y_17_test)  "
   ]
  },
  {
   "cell_type": "code",
   "execution_count": null,
   "id": "4d493e9a",
   "metadata": {},
   "outputs": [],
   "source": []
  },
  {
   "cell_type": "code",
   "execution_count": 28,
   "id": "1792868d",
   "metadata": {},
   "outputs": [
    {
     "data": {
      "text/plain": [
       "0.9963251188932123"
      ]
     },
     "execution_count": 28,
     "metadata": {},
     "output_type": "execute_result"
    }
   ],
   "source": [
    "model_18 = DecisionTreeClassifier(max_depth=depth)   \n",
    "y_18 = improvements[['18']].astype(np.int8)\n",
    "X_train, X_test, y_18_train, y_18_test = train_test_split(X, y_18, test_size=0.1, random_state=10)\n",
    "model_18.fit(X_train, y_18_train) \n",
    "model_18.score(X_test, y_18_test)  "
   ]
  },
  {
   "cell_type": "code",
   "execution_count": null,
   "id": "077eba18",
   "metadata": {},
   "outputs": [],
   "source": []
  },
  {
   "cell_type": "code",
   "execution_count": 29,
   "id": "2af7abf4",
   "metadata": {},
   "outputs": [
    {
     "data": {
      "text/plain": [
       "0.9689796800691742"
      ]
     },
     "execution_count": 29,
     "metadata": {},
     "output_type": "execute_result"
    }
   ],
   "source": [
    "model_19 = DecisionTreeClassifier(max_depth=depth)   \n",
    "y_19 = improvements[['19']].astype(np.int8)\n",
    "X_train, X_test, y_19_train, y_19_test = train_test_split(X, y_19, test_size=0.1, random_state=10)\n",
    "model_19.fit(X_train, y_19_train) \n",
    "model_19.score(X_test, y_19_test)  "
   ]
  },
  {
   "cell_type": "code",
   "execution_count": null,
   "id": "e619850a",
   "metadata": {},
   "outputs": [],
   "source": []
  },
  {
   "cell_type": "code",
   "execution_count": 30,
   "id": "c223451d",
   "metadata": {},
   "outputs": [
    {
     "data": {
      "text/plain": [
       "0.9550907911802854"
      ]
     },
     "execution_count": 30,
     "metadata": {},
     "output_type": "execute_result"
    }
   ],
   "source": [
    "model_20 = DecisionTreeClassifier(max_depth=depth)   \n",
    "y_20 = improvements[['20']].astype(np.int8)\n",
    "X_train, X_test, y_20_train, y_20_test = train_test_split(X, y_20, test_size=0.1, random_state=10)\n",
    "model_20.fit(X_train, y_20_train) \n",
    "model_20.score(X_test, y_20_test)  "
   ]
  },
  {
   "cell_type": "code",
   "execution_count": null,
   "id": "b2536cb4",
   "metadata": {},
   "outputs": [],
   "source": []
  },
  {
   "cell_type": "code",
   "execution_count": 31,
   "id": "e076ef2a",
   "metadata": {},
   "outputs": [
    {
     "data": {
      "text/plain": [
       "0.9999459576307825"
      ]
     },
     "execution_count": 31,
     "metadata": {},
     "output_type": "execute_result"
    }
   ],
   "source": [
    "model_21 = DecisionTreeClassifier(max_depth=depth)   \n",
    "y_21 = improvements[['21']].astype(np.int8)\n",
    "X_train, X_test, y_21_train, y_21_test = train_test_split(X, y_21, test_size=0.1, random_state=10)\n",
    "model_21.fit(X_train, y_21_train) \n",
    "model_21.score(X_test, y_21_test)  "
   ]
  },
  {
   "cell_type": "code",
   "execution_count": null,
   "id": "d733eccf",
   "metadata": {},
   "outputs": [],
   "source": []
  },
  {
   "cell_type": "code",
   "execution_count": 32,
   "id": "f6cacc16",
   "metadata": {},
   "outputs": [
    {
     "data": {
      "text/plain": [
       "0.8708387375702551"
      ]
     },
     "execution_count": 32,
     "metadata": {},
     "output_type": "execute_result"
    }
   ],
   "source": [
    "model_22 = DecisionTreeClassifier(max_depth=depth)   \n",
    "y_22 = improvements[['22']].astype(np.int8)\n",
    "X_train, X_test, y_22_train, y_22_test = train_test_split(X, y_22, test_size=0.1, random_state=10)\n",
    "model_22.fit(X_train, y_22_train) \n",
    "model_22.score(X_test, y_22_test)  "
   ]
  },
  {
   "cell_type": "code",
   "execution_count": null,
   "id": "2d2a6b0a",
   "metadata": {},
   "outputs": [],
   "source": []
  },
  {
   "cell_type": "code",
   "execution_count": 33,
   "id": "dc27d4b1",
   "metadata": {},
   "outputs": [
    {
     "data": {
      "text/plain": [
       "0.9998919152615651"
      ]
     },
     "execution_count": 33,
     "metadata": {},
     "output_type": "execute_result"
    }
   ],
   "source": [
    "model_23 = DecisionTreeClassifier(max_depth=depth)   \n",
    "y_23 = improvements[['23']].astype(np.int8)\n",
    "X_train, X_test, y_23_train, y_23_test = train_test_split(X, y_23, test_size=0.1, random_state=10)\n",
    "model_23.fit(X_train, y_23_train) \n",
    "model_23.score(X_test, y_23_test)  "
   ]
  },
  {
   "cell_type": "code",
   "execution_count": null,
   "id": "87972579",
   "metadata": {},
   "outputs": [],
   "source": []
  },
  {
   "cell_type": "code",
   "execution_count": 34,
   "id": "4214b9db",
   "metadata": {},
   "outputs": [
    {
     "data": {
      "text/plain": [
       "0.9924340683095547"
      ]
     },
     "execution_count": 34,
     "metadata": {},
     "output_type": "execute_result"
    }
   ],
   "source": [
    "model_24 = DecisionTreeClassifier(max_depth=depth)   \n",
    "y_24 = improvements[['24']].astype(np.int8)\n",
    "X_train, X_test, y_24_train, y_24_test = train_test_split(X, y_24, test_size=0.1, random_state=10)\n",
    "model_24.fit(X_train, y_24_train) \n",
    "model_24.score(X_test, y_24_test)  "
   ]
  },
  {
   "cell_type": "code",
   "execution_count": null,
   "id": "ba57f0c1",
   "metadata": {},
   "outputs": [],
   "source": []
  },
  {
   "cell_type": "code",
   "execution_count": 35,
   "id": "7485afd2",
   "metadata": {},
   "outputs": [
    {
     "data": {
      "text/plain": [
       "0.9376891482922611"
      ]
     },
     "execution_count": 35,
     "metadata": {},
     "output_type": "execute_result"
    }
   ],
   "source": [
    "model_25 = DecisionTreeClassifier(max_depth=depth)   \n",
    "y_25 = improvements[['25']].astype(np.int8)\n",
    "X_train, X_test, y_25_train, y_25_test = train_test_split(X, y_25, test_size=0.1, random_state=10)\n",
    "model_25.fit(X_train, y_25_train) \n",
    "model_25.score(X_test, y_25_test)  "
   ]
  },
  {
   "cell_type": "code",
   "execution_count": null,
   "id": "b42e826b",
   "metadata": {},
   "outputs": [],
   "source": []
  },
  {
   "cell_type": "code",
   "execution_count": 36,
   "id": "b951ac06",
   "metadata": {},
   "outputs": [
    {
     "data": {
      "text/plain": [
       "0.9998919152615651"
      ]
     },
     "execution_count": 36,
     "metadata": {},
     "output_type": "execute_result"
    }
   ],
   "source": [
    "model_26 = DecisionTreeClassifier(max_depth=depth)   \n",
    "y_26 = improvements[['26']].astype(np.int8)\n",
    "X_train, X_test, y_26_train, y_26_test = train_test_split(X, y_26, test_size=0.1, random_state=10)\n",
    "model_26.fit(X_train, y_26_train) \n",
    "model_26.score(X_test, y_26_test)  "
   ]
  },
  {
   "cell_type": "code",
   "execution_count": null,
   "id": "df76e891",
   "metadata": {},
   "outputs": [],
   "source": []
  },
  {
   "cell_type": "code",
   "execution_count": 37,
   "id": "80ee4353",
   "metadata": {},
   "outputs": [
    {
     "data": {
      "text/plain": [
       "0.9699524427150886"
      ]
     },
     "execution_count": 37,
     "metadata": {},
     "output_type": "execute_result"
    }
   ],
   "source": [
    "model_27 = DecisionTreeClassifier(max_depth=depth)   \n",
    "y_27 = improvements[['27']].astype(np.int8)\n",
    "X_train, X_test, y_27_train, y_27_test = train_test_split(X, y_27, test_size=0.1, random_state=10)\n",
    "model_27.fit(X_train, y_27_train) \n",
    "model_27.score(X_test, y_27_test)  "
   ]
  },
  {
   "cell_type": "code",
   "execution_count": null,
   "id": "9bc81d68",
   "metadata": {},
   "outputs": [],
   "source": []
  },
  {
   "cell_type": "code",
   "execution_count": 38,
   "id": "18f55cdb",
   "metadata": {},
   "outputs": [
    {
     "data": {
      "text/plain": [
       "0.9977302204928664"
      ]
     },
     "execution_count": 38,
     "metadata": {},
     "output_type": "execute_result"
    }
   ],
   "source": [
    "model_28 = DecisionTreeClassifier(max_depth=depth)   \n",
    "y_28 = improvements[['28']].astype(np.int8)\n",
    "X_train, X_test, y_28_train, y_28_test = train_test_split(X, y_28, test_size=0.1, random_state=10)\n",
    "model_28.fit(X_train, y_28_train) \n",
    "model_28.score(X_test, y_28_test)  "
   ]
  },
  {
   "cell_type": "code",
   "execution_count": null,
   "id": "98a9a798",
   "metadata": {},
   "outputs": [],
   "source": []
  },
  {
   "cell_type": "code",
   "execution_count": 39,
   "id": "640122c9",
   "metadata": {},
   "outputs": [
    {
     "data": {
      "text/plain": [
       "0.9655750108084739"
      ]
     },
     "execution_count": 39,
     "metadata": {},
     "output_type": "execute_result"
    }
   ],
   "source": [
    "model_29 = DecisionTreeClassifier(max_depth=depth)   \n",
    "y_29 = improvements[['29']].astype(np.int8)\n",
    "X_train, X_test, y_29_train, y_29_test = train_test_split(X, y_29, test_size=0.1, random_state=10)\n",
    "model_29.fit(X_train, y_29_train) \n",
    "model_29.score(X_test, y_29_test)  "
   ]
  },
  {
   "cell_type": "code",
   "execution_count": null,
   "id": "b5cceec8",
   "metadata": {},
   "outputs": [],
   "source": []
  },
  {
   "cell_type": "code",
   "execution_count": 40,
   "id": "a0897aeb",
   "metadata": {},
   "outputs": [
    {
     "data": {
      "text/plain": [
       "0.9528750540423692"
      ]
     },
     "execution_count": 40,
     "metadata": {},
     "output_type": "execute_result"
    }
   ],
   "source": [
    "model_30 = DecisionTreeClassifier(max_depth=depth)   \n",
    "y_30 = improvements[['30']].astype(np.int8)\n",
    "X_train, X_test, y_30_train, y_30_test = train_test_split(X, y_30, test_size=0.1, random_state=10)\n",
    "model_30.fit(X_train, y_30_train) \n",
    "model_30.score(X_test, y_30_test)  "
   ]
  },
  {
   "cell_type": "code",
   "execution_count": null,
   "id": "6ef7f76e",
   "metadata": {},
   "outputs": [],
   "source": []
  },
  {
   "cell_type": "code",
   "execution_count": 41,
   "id": "b649627d",
   "metadata": {},
   "outputs": [
    {
     "data": {
      "text/plain": [
       "0.9921098140942499"
      ]
     },
     "execution_count": 41,
     "metadata": {},
     "output_type": "execute_result"
    }
   ],
   "source": [
    "model_31 = DecisionTreeClassifier(max_depth=depth)   \n",
    "y_31 = improvements[['31']].astype(np.int8)\n",
    "X_train, X_test, y_31_train, y_31_test = train_test_split(X, y_31, test_size=0.1, random_state=10)\n",
    "model_31.fit(X_train, y_31_train) \n",
    "model_31.score(X_test, y_31_test)  "
   ]
  },
  {
   "cell_type": "code",
   "execution_count": null,
   "id": "46143623",
   "metadata": {},
   "outputs": [],
   "source": []
  },
  {
   "cell_type": "code",
   "execution_count": 42,
   "id": "b8865a7c",
   "metadata": {},
   "outputs": [
    {
     "data": {
      "text/plain": [
       "0.8989407695633377"
      ]
     },
     "execution_count": 42,
     "metadata": {},
     "output_type": "execute_result"
    }
   ],
   "source": [
    "model_32 = DecisionTreeClassifier(max_depth=depth)   \n",
    "y_32 = improvements[['32']].astype(np.int8)\n",
    "X_train, X_test, y_32_train, y_32_test = train_test_split(X, y_32, test_size=0.1, random_state=10)\n",
    "model_32.fit(X_train, y_32_train) \n",
    "model_32.score(X_test, y_32_test)  "
   ]
  },
  {
   "cell_type": "code",
   "execution_count": null,
   "id": "646cacf0",
   "metadata": {},
   "outputs": [],
   "source": []
  },
  {
   "cell_type": "code",
   "execution_count": 43,
   "id": "7bc8a479",
   "metadata": {},
   "outputs": [
    {
     "data": {
      "text/plain": [
       "0.9582792909641159"
      ]
     },
     "execution_count": 43,
     "metadata": {},
     "output_type": "execute_result"
    }
   ],
   "source": [
    "model_33 = DecisionTreeClassifier(max_depth=depth)   \n",
    "y_33 = improvements[['33']].astype(np.int8)\n",
    "X_train, X_test, y_33_train, y_33_test = train_test_split(X, y_33, test_size=0.1, random_state=10)\n",
    "model_33.fit(X_train, y_33_train) \n",
    "model_33.score(X_test, y_33_test)  "
   ]
  },
  {
   "cell_type": "code",
   "execution_count": null,
   "id": "da2e6b1a",
   "metadata": {},
   "outputs": [],
   "source": []
  },
  {
   "cell_type": "code",
   "execution_count": 44,
   "id": "1afaffd9",
   "metadata": {},
   "outputs": [
    {
     "data": {
      "text/plain": [
       "0.9994595763078253"
      ]
     },
     "execution_count": 44,
     "metadata": {},
     "output_type": "execute_result"
    }
   ],
   "source": [
    "model_34 = DecisionTreeClassifier(max_depth=depth)   \n",
    "y_34 = improvements[['34']].astype(np.int8)\n",
    "X_train, X_test, y_34_train, y_34_test = train_test_split(X, y_34, test_size=0.1, random_state=10)\n",
    "model_34.fit(X_train, y_34_train) \n",
    "model_34.score(X_test, y_34_test)  "
   ]
  },
  {
   "cell_type": "code",
   "execution_count": null,
   "id": "73c8fc8c",
   "metadata": {},
   "outputs": [],
   "source": []
  },
  {
   "cell_type": "code",
   "execution_count": 45,
   "id": "a791c789",
   "metadata": {},
   "outputs": [],
   "source": [
    "j = model_0.score(X_test, y_0_test) * model_1.score(X_test, y_1_test) * model_2.score(X_test, y_2_test) * model_3.score(X_test, y_3_test) * model_4.score(X_test, y_4_test) * model_5.score(X_test, y_5_test) * model_6.score(X_test, y_6_test) * model_7.score(X_test, y_7_test) * model_8.score(X_test, y_8_test) * model_9.score(X_test, y_9_test) * model_10.score(X_test, y_10_test) * model_11.score(X_test, y_11_test) * model_12.score(X_test, y_12_test) * model_13.score(X_test, y_13_test) * model_14.score(X_test, y_14_test) * model_15.score(X_test, y_15_test) * model_16.score(X_test, y_16_test) * model_17.score(X_test, y_17_test) * model_18.score(X_test, y_18_test) * model_19.score(X_test, y_19_test) * model_20.score(X_test, y_20_test) * model_21.score(X_test, y_21_test) * model_22.score(X_test, y_22_test) * model_23.score(X_test, y_23_test) * model_24.score(X_test, y_24_test) * model_25.score(X_test, y_25_test) * model_26.score(X_test, y_26_test) * model_25.score(X_test, y_27_test) * model_28.score(X_test, y_28_test) * model_29.score(X_test, y_29_test) * model_30.score(X_test, y_30_test) * model_31.score(X_test, y_31_test) * model_32.score(X_test, y_32_test) * model_33.score(X_test, y_33_test) * model_34.score(X_test, y_34_test)\n"
   ]
  },
  {
   "cell_type": "code",
   "execution_count": 46,
   "id": "e28f3680",
   "metadata": {},
   "outputs": [
    {
     "data": {
      "text/plain": [
       "0.4022659574020141"
      ]
     },
     "execution_count": 46,
     "metadata": {},
     "output_type": "execute_result"
    }
   ],
   "source": [
    "j    "
   ]
  },
  {
   "cell_type": "code",
   "execution_count": 47,
   "id": "61287854",
   "metadata": {},
   "outputs": [],
   "source": [
    "j = model_0.score(X_test, y_0_test) * model_1.score(X_test, y_1_test) * model_2.score(X_test, y_2_test) * model_3.score(X_test, y_3_test) * model_4.score(X_test, y_4_test) * model_5.score(X_test, y_5_test) * model_6.score(X_test, y_6_test) * model_7.score(X_test, y_7_test) * model_8.score(X_test, y_8_test) * model_9.score(X_test, y_9_test) * model_10.score(X_test, y_10_test) * model_11.score(X_test, y_11_test) * model_12.score(X_test, y_12_test) * model_13.score(X_test, y_13_test) * model_14.score(X_test, y_14_test) * model_15.score(X_test, y_15_test) * model_16.score(X_test, y_16_test) * model_17.score(X_test, y_17_test) * model_18.score(X_test, y_18_test) * model_19.score(X_test, y_19_test) * model_20.score(X_test, y_20_test) * model_21.score(X_test, y_21_test) * model_23.score(X_test, y_23_test) * model_24.score(X_test, y_24_test) * model_25.score(X_test, y_25_test) * model_26.score(X_test, y_26_test) * model_25.score(X_test, y_27_test) * model_28.score(X_test, y_28_test) * model_29.score(X_test, y_29_test) * model_30.score(X_test, y_30_test) * model_31.score(X_test, y_31_test) * model_33.score(X_test, y_33_test) * model_34.score(X_test, y_34_test)\n"
   ]
  },
  {
   "cell_type": "code",
   "execution_count": 48,
   "id": "c6206091",
   "metadata": {},
   "outputs": [
    {
     "data": {
      "text/plain": [
       "0.5138595877240112"
      ]
     },
     "execution_count": 48,
     "metadata": {},
     "output_type": "execute_result"
    }
   ],
   "source": [
    "j  "
   ]
  },
  {
   "cell_type": "code",
   "execution_count": 52,
   "id": "7e4c8f65",
   "metadata": {},
   "outputs": [],
   "source": [
    "j = model_0.score(X_test, y_0_test) * model_1.score(X_test, y_1_test) * model_2.score(X_test, y_2_test) * model_3.score(X_test, y_3_test) * model_4.score(X_test, y_4_test) * model_5.score(X_test, y_5_test) * model_6.score(X_test, y_6_test) * model_7.score(X_test, y_7_test) * model_8.score(X_test, y_8_test) * model_9.score(X_test, y_9_test) * model_10.score(X_test, y_10_test) * model_11.score(X_test, y_11_test) * model_12.score(X_test, y_12_test) * model_13.score(X_test, y_13_test) * model_14.score(X_test, y_14_test) * model_15.score(X_test, y_15_test) * model_16.score(X_test, y_16_test) * model_17.score(X_test, y_17_test) * model_18.score(X_test, y_18_test) * model_19.score(X_test, y_19_test) * model_21.score(X_test, y_21_test) * model_23.score(X_test, y_23_test) * model_24.score(X_test, y_24_test) * model_25.score(X_test, y_25_test) * model_26.score(X_test, y_26_test) * model_28.score(X_test, y_28_test) * model_29.score(X_test, y_29_test) * model_31.score(X_test, y_31_test) * model_33.score(X_test, y_33_test) * model_34.score(X_test, y_34_test)\n"
   ]
  },
  {
   "cell_type": "code",
   "execution_count": 53,
   "id": "1a2caf21",
   "metadata": {},
   "outputs": [
    {
     "data": {
      "text/plain": [
       "0.5988027914121874"
      ]
     },
     "execution_count": 53,
     "metadata": {},
     "output_type": "execute_result"
    }
   ],
   "source": [
    "j    "
   ]
  },
  {
   "cell_type": "code",
   "execution_count": 55,
   "id": "19ccaeac",
   "metadata": {},
   "outputs": [],
   "source": [
    "from IPython.display import *\n",
    "import ipywidgets as widgets    \n",
    "from ipywidgets import *"
   ]
  },
  {
   "cell_type": "code",
   "execution_count": 58,
   "id": "a8e85d0f",
   "metadata": {},
   "outputs": [
    {
     "data": {
      "application/vnd.jupyter.widget-view+json": {
       "model_id": "372568ab3c67492499f73903f3c7f944",
       "version_major": 2,
       "version_minor": 0
      },
      "text/plain": [
       "VBox(children=(HBox(children=(Dropdown(options=('Bungalow', 'Flat', 'House', 'Maisonette', 'Park home'), value…"
      ]
     },
     "metadata": {},
     "output_type": "display_data"
    },
    {
     "name": "stdout",
     "output_type": "stream",
     "text": [
      "Here are the improvements the model advises you to make : \n",
      "\n",
      "Add additional 80 mm jacket to hot water cylinder [0]\n",
      "Probability that the model is correct : 84.0420265141097 %\n",
      "\n",
      "Cavity wall insulation [0]\n",
      "Probability that the model is correct : 98.46390064609929 %\n",
      "\n",
      "Change heating to gas condensing boiler [0]\n",
      "Probability that the model is correct : 98.33887043189368 %\n",
      "\n",
      "Change room heaters to condensing boiler [0]\n",
      "Probability that the model is correct : 100.0 %\n",
      "\n",
      "Condensing boiler [0]\n",
      "Probability that the model is correct : 99.98497191626853 %\n",
      "\n",
      "Condensing oil boiler with radiators [0]\n",
      "Probability that the model is correct : 100.0 %\n",
      "\n",
      "Draughtproofing [0]\n",
      "Probability that the model is correct : 72.30046948356808 %\n",
      "\n",
      "Flat roof insulation [0]\n",
      "Probability that the model is correct : 98.60327692720924 %\n",
      "\n",
      "Floor insulation (solid floor) [0]\n",
      "Probability that the model is correct : 99.41892454070883 %\n",
      "\n",
      "Floor insulation (suspended floor) [0]\n",
      "Probability that the model is correct : 97.75419214018972 %\n",
      "\n",
      "Flue gas heat recovery device in conjunction with boiler [0]\n",
      "Probability that the model is correct : 93.22779243623572 %\n",
      "\n",
      "Heat recovery system for mixer showers [0]\n",
      "Probability that the model is correct : 99.47249434815373 %\n",
      "\n",
      "High heat retention storage heaters [0]\n",
      "Probability that the model is correct : 99.99794892831504 %\n",
      "\n",
      "High heat retention storage heaters and dual immersion cylinder [0]\n",
      "Probability that the model is correct : 100.0 %\n",
      "\n",
      "High performance external doors [1]\n",
      "Probability that the model is correct : 77.77777777777779 %\n",
      "\n",
      "Hot water cylinder thermostat [0]\n",
      "Probability that the model is correct : 99.99937354348862 %\n",
      "\n",
      "Increase hot water cylinder insulation [0]\n",
      "Probability that the model is correct : 93.77067699507786 %\n",
      "\n",
      "Increase loft insulation to 270 mm [1]\n",
      "Probability that the model is correct : 98.81925522252499 %\n",
      "\n",
      "Insulate hot water cylinder with 80 mm jacket [0]\n",
      "Probability that the model is correct : 98.84123828457825 %\n",
      "\n",
      "Internal or external wall insulation [0]\n",
      "Probability that the model is correct : 97.85468399319505 %\n",
      "\n",
      "Low energy lighting for all fixed outlets [1]\n",
      "Probability that the model is correct : 87.76176012085564 %\n",
      "\n",
      "Replace boiler with biomass boiler [0]\n",
      "Probability that the model is correct : 100.0 %\n",
      "\n",
      "Replace boiler with new condensing boiler [0]\n",
      "Probability that the model is correct : 95.58823529411765 %\n",
      "\n",
      "Replace heating unit with condensing unit [0]\n",
      "Probability that the model is correct : 100.0 %\n",
      "\n",
      "Replace single glazed windows with low-E double glazed windows [1]\n",
      "Probability that the model is correct : 94.5902802412203 %\n",
      "\n",
      "Replacement glazing units [0]\n",
      "Probability that the model is correct : 100.0 %\n",
      "\n",
      "Replacement warm air unit [0]\n",
      "Probability that the model is correct : 100.0 %\n",
      "\n",
      "Room-in-roof insulation [0]\n",
      "Probability that the model is correct : 97.03820670010526 %\n",
      "\n",
      "Secondary glazing to single glazed windows [0]\n",
      "Probability that the model is correct : 99.28057553956835 %\n",
      "\n",
      "Solar photovoltaic panels, 2.5 kWp [1]\n",
      "Probability that the model is correct : 89.81685375154413 %\n",
      "\n",
      "Solar water heating [1]\n",
      "Probability that the model is correct : 93.1195690837949 %\n",
      "\n",
      "Time and temperature zone control [0]\n",
      "Probability that the model is correct : 99.94472839283829 %\n",
      "\n",
      "Upgrade heating controls [0]\n",
      "Probability that the model is correct : 76.38279192273924 %\n",
      "\n",
      "Wind turbine [0]\n",
      "Probability that the model is correct : 89.46859903381642 %\n",
      "\n",
      "Wood pellet stove with boiler and radiators [0]\n",
      "Probability that the model is correct : 100.0 %\n",
      "\n"
     ]
    }
   ],
   "source": [
    "a_widget = Dropdown(options = list(property_type.keys()))\n",
    "b_widget = Dropdown(options = list(construction_age.keys()))\n",
    "c_widget = Dropdown(options = list(wall_description.keys()))\n",
    "d_widget = Dropdown(options = list(roof_description.keys()))\n",
    "e_widget = Dropdown(options = list(floor_description.keys()))\n",
    "f_widget = Dropdown(options = list(windows_description.keys()))\n",
    "g_widget = Dropdown(options = list(mainheat_description.keys()))\n",
    "h_widget = Dropdown(options = list(lighting_description.keys()))\n",
    "i_widget = Dropdown(options = list(hotwater_description.keys()))\n",
    "\n",
    "test_2 = list(X2.keys())     \n",
    "\n",
    "pb = widgets.Button(\n",
    "    description='Click me',\n",
    "    disabled=False,\n",
    "    button_style='', # 'success', 'info', 'warning', 'danger' or ''\n",
    "    tooltip='Click me',\n",
    ")    \n",
    "        \n",
    "    \n",
    "        \n",
    "def on_button_clicked(b):\n",
    "    N = np.zeros((1, 3133)).astype(np.uint8)\n",
    "    N[0,test_2.index(a_widget.value)] = 1\n",
    "    N[0,test_2.index(b_widget.value)] = 1\n",
    "    N[0,test_2.index(c_widget.value)] = 1\n",
    "    N[0,test_2.index(d_widget.value)] = 1\n",
    "    N[0,test_2.index(e_widget.value)] = 1\n",
    "    N[0,test_2.index(f_widget.value)] = 1\n",
    "    N[0,test_2.index(g_widget.value)] = 1\n",
    "    N[0,test_2.index(h_widget.value)] = 1\n",
    "    N[0,test_2.index(i_widget.value)] = 1\n",
    "        \n",
    "    ##print(N)\n",
    "    \n",
    "    print(\"Here are the improvements the model advises you to make : \")\n",
    "    print(\"\")\n",
    "    print(\"Add additional 80 mm jacket to hot water cylinder\", model_0.predict(N))\n",
    "    print(\"Probability that the model is correct :\", model_0.predict_proba(N).max()*100,\"%\")\n",
    "    print(\"\")\n",
    "    print(\"Cavity wall insulation\", model_1.predict(N))\n",
    "    print(\"Probability that the model is correct :\", model_1.predict_proba(N).max()*100,\"%\")\n",
    "    print(\"\")\n",
    "    print(\"Change heating to gas condensing boiler\", model_2.predict(N))\n",
    "    print(\"Probability that the model is correct :\", model_2.predict_proba(N).max()*100,\"%\")\n",
    "    print(\"\")\n",
    "    print(\"Change room heaters to condensing boiler\", model_3.predict(N))\n",
    "    print(\"Probability that the model is correct :\", model_3.predict_proba(N).max()*100,\"%\")\n",
    "    print(\"\")\n",
    "    print(\"Condensing boiler\", model_4.predict(N))\n",
    "    print(\"Probability that the model is correct :\", model_4.predict_proba(N).max()*100,\"%\")    \n",
    "    print(\"\")\n",
    "    print(\"Condensing oil boiler with radiators\", model_5.predict(N))\n",
    "    print(\"Probability that the model is correct :\", model_5.predict_proba(N).max()*100,\"%\")\n",
    "    print(\"\")\n",
    "    print(\"Draughtproofing\", model_6.predict(N))\n",
    "    print(\"Probability that the model is correct :\", model_6.predict_proba(N).max()*100,\"%\")\n",
    "    print(\"\")\n",
    "    print(\"Flat roof insulation\", model_7.predict(N))\n",
    "    print(\"Probability that the model is correct :\", model_7.predict_proba(N).max()*100,\"%\")\n",
    "    print(\"\")\n",
    "    print(\"Floor insulation (solid floor)\", model_8.predict(N))\n",
    "    print(\"Probability that the model is correct :\", model_8.predict_proba(N).max()*100,\"%\")\n",
    "    print(\"\")\n",
    "    print(\"Floor insulation (suspended floor)\", model_9.predict(N))\n",
    "    print(\"Probability that the model is correct :\", model_9.predict_proba(N).max()*100,\"%\")\n",
    "    print(\"\")\n",
    "    print(\"Flue gas heat recovery device in conjunction with boiler\", model_10.predict(N))\n",
    "    print(\"Probability that the model is correct :\", model_10.predict_proba(N).max()*100,\"%\")\n",
    "    print(\"\")\n",
    "    print(\"Heat recovery system for mixer showers\", model_11.predict(N))\n",
    "    print(\"Probability that the model is correct :\", model_11.predict_proba(N).max()*100,\"%\")\n",
    "    print(\"\")\n",
    "    print(\"High heat retention storage heaters\", model_12.predict(N))\n",
    "    print(\"Probability that the model is correct :\", model_12.predict_proba(N).max()*100,\"%\")\n",
    "    print(\"\")\n",
    "    print(\"High heat retention storage heaters and dual immersion cylinder\", model_13.predict(N))\n",
    "    print(\"Probability that the model is correct :\", model_13.predict_proba(N).max()*100,\"%\")\n",
    "    print(\"\")\n",
    "    print(\"High performance external doors\", model_14.predict(N))\n",
    "    print(\"Probability that the model is correct :\", model_14.predict_proba(N).max()*100,\"%\")\n",
    "    print(\"\")\n",
    "    print(\"Hot water cylinder thermostat\", model_15.predict(N))\n",
    "    print(\"Probability that the model is correct :\", model_15.predict_proba(N).max()*100,\"%\")\n",
    "    print(\"\")\n",
    "    print(\"Increase hot water cylinder insulation\", model_16.predict(N))\n",
    "    print(\"Probability that the model is correct :\", model_16.predict_proba(N).max()*100,\"%\")\n",
    "    print(\"\")\n",
    "    print(\"Increase loft insulation to 270 mm\", model_17.predict(N))\n",
    "    print(\"Probability that the model is correct :\", model_17.predict_proba(N).max()*100,\"%\")\n",
    "    print(\"\")\n",
    "    print(\"Insulate hot water cylinder with 80 mm jacket\", model_18.predict(N))\n",
    "    print(\"Probability that the model is correct :\", model_18.predict_proba(N).max()*100,\"%\")\n",
    "    print(\"\")\n",
    "    print(\"Internal or external wall insulation\", model_19.predict(N))\n",
    "    print(\"Probability that the model is correct :\", model_19.predict_proba(N).max()*100,\"%\")\n",
    "    print(\"\")\n",
    "    print(\"Low energy lighting for all fixed outlets\", model_20.predict(N))\n",
    "    print(\"Probability that the model is correct :\", model_20.predict_proba(N).max()*100,\"%\")\n",
    "    print(\"\")\n",
    "    print(\"Replace boiler with biomass boiler\", model_21.predict(N))\n",
    "    print(\"Probability that the model is correct :\", model_21.predict_proba(N).max()*100,\"%\")\n",
    "    print(\"\")\n",
    "    print(\"Replace boiler with new condensing boiler\", model_22.predict(N))\n",
    "    print(\"Probability that the model is correct :\", model_22.predict_proba(N).max()*100,\"%\")\n",
    "    print(\"\")\n",
    "    print(\"Replace heating unit with condensing unit\", model_23.predict(N))\n",
    "    print(\"Probability that the model is correct :\", model_23.predict_proba(N).max()*100,\"%\")\n",
    "    print(\"\")\n",
    "    print(\"Replace single glazed windows with low-E double glazed windows\", model_24.predict(N))\n",
    "    print(\"Probability that the model is correct :\", model_24.predict_proba(N).max()*100,\"%\")\n",
    "    print(\"\")\n",
    "    print(\"Replacement glazing units\", model_25.predict(N))\n",
    "    print(\"Probability that the model is correct :\", model_25.predict_proba(N).max()*100,\"%\")    \n",
    "    print(\"\")\n",
    "    print(\"Replacement warm air unit\", model_26.predict(N))\n",
    "    print(\"Probability that the model is correct :\", model_26.predict_proba(N).max()*100,\"%\")\n",
    "    print(\"\")\n",
    "    print(\"Room-in-roof insulation\", model_27.predict(N))\n",
    "    print(\"Probability that the model is correct :\", model_27.predict_proba(N).max()*100,\"%\")    \n",
    "    print(\"\")\n",
    "    print(\"Secondary glazing to single glazed windows\", model_28.predict(N))\n",
    "    print(\"Probability that the model is correct :\", model_28.predict_proba(N).max()*100,\"%\")\n",
    "    print(\"\")\n",
    "    print(\"Solar photovoltaic panels, 2.5 kWp\", model_29.predict(N))\n",
    "    print(\"Probability that the model is correct :\", model_29.predict_proba(N).max()*100,\"%\")\n",
    "    print(\"\")\n",
    "    print(\"Solar water heating\", model_30.predict(N))\n",
    "    print(\"Probability that the model is correct :\", model_30.predict_proba(N).max()*100,\"%\")\n",
    "    print(\"\")\n",
    "    print(\"Time and temperature zone control\", model_31.predict(N))\n",
    "    print(\"Probability that the model is correct :\", model_31.predict_proba(N).max()*100,\"%\")\n",
    "    print(\"\")\n",
    "    print(\"Upgrade heating controls\", model_32.predict(N))\n",
    "    print(\"Probability that the model is correct :\", model_32.predict_proba(N).max()*100,\"%\")\n",
    "    print(\"\")\n",
    "    print(\"Wind turbine\", model_33.predict(N))\n",
    "    print(\"Probability that the model is correct :\", model_33.predict_proba(N).max()*100,\"%\")\n",
    "    print(\"\")\n",
    "    print(\"Wood pellet stove with boiler and radiators\", model_34.predict(N))\n",
    "    print(\"Probability that the model is correct :\", model_34.predict_proba(N).max()*100,\"%\")\n",
    "    print(\"\")\n",
    "\n",
    "\n",
    "    \n",
    "    \n",
    "     \n",
    "\n",
    "pb.on_click(on_button_clicked)\n",
    "\n",
    "ui = widgets.VBox([widgets.HBox([a_widget]), widgets.HBox([b_widget]), widgets.HBox([c_widget]), widgets.HBox([d_widget]), widgets.HBox([e_widget]), widgets.HBox([f_widget]), widgets.HBox([g_widget]), widgets.HBox([h_widget]), widgets.HBox([i_widget]),pb])\n",
    "\n",
    "display(ui)"
   ]
  },
  {
   "cell_type": "code",
   "execution_count": null,
   "id": "eb5d4338",
   "metadata": {},
   "outputs": [],
   "source": []
  },
  {
   "cell_type": "code",
   "execution_count": 60,
   "id": "c0896a84",
   "metadata": {},
   "outputs": [],
   "source": [
    "data = pd.read_csv('Classeur.csv', sep=\";\", header=0, encoding = 'latin')"
   ]
  },
  {
   "cell_type": "code",
   "execution_count": 61,
   "id": "e6d561f1",
   "metadata": {},
   "outputs": [
    {
     "data": {
      "text/html": [
       "<div>\n",
       "<style scoped>\n",
       "    .dataframe tbody tr th:only-of-type {\n",
       "        vertical-align: middle;\n",
       "    }\n",
       "\n",
       "    .dataframe tbody tr th {\n",
       "        vertical-align: top;\n",
       "    }\n",
       "\n",
       "    .dataframe thead th {\n",
       "        text-align: right;\n",
       "    }\n",
       "</style>\n",
       "<table border=\"1\" class=\"dataframe\">\n",
       "  <thead>\n",
       "    <tr style=\"text-align: right;\">\n",
       "      <th></th>\n",
       "      <th>Property Type</th>\n",
       "      <th>Total floor area (m²)</th>\n",
       "      <th>Part 1 Construction Age Band</th>\n",
       "      <th>WALL_DESCRIPTION</th>\n",
       "      <th>ROOF_DESCRIPTION</th>\n",
       "      <th>FLOOR_DESCRIPTION</th>\n",
       "      <th>WINDOWS_DESCRIPTION</th>\n",
       "      <th>MAINHEAT_DESCRIPTION</th>\n",
       "      <th>LIGHTING_DESCRIPTION</th>\n",
       "      <th>HOTWATER_DESCRIPTION</th>\n",
       "      <th>Improvement_1</th>\n",
       "      <th>Improvement_2</th>\n",
       "      <th>Improvement_3</th>\n",
       "      <th>Improvement_4</th>\n",
       "      <th>Improvement_5</th>\n",
       "      <th>Improvement_6</th>\n",
       "      <th>Improvement_7</th>\n",
       "      <th>Improvement_8</th>\n",
       "    </tr>\n",
       "  </thead>\n",
       "  <tbody>\n",
       "    <tr>\n",
       "      <th>0</th>\n",
       "      <td>House</td>\n",
       "      <td>94.0</td>\n",
       "      <td>1930-1949</td>\n",
       "      <td>Cavity wall, as built, no insulation (assumed)</td>\n",
       "      <td>Pitched, 25 mm loft insulation</td>\n",
       "      <td>Suspended, no insulation (assumed)</td>\n",
       "      <td>Description: Fully double glazed</td>\n",
       "      <td>Boiler and radiators, mains gas</td>\n",
       "      <td>Low energy lighting in all fixed outlets</td>\n",
       "      <td>From main system, no cylinder thermostat</td>\n",
       "      <td>Hot water cylinder thermostat</td>\n",
       "      <td>Increase loft insulation to 270 mm</td>\n",
       "      <td>Floor insulation (suspended floor)</td>\n",
       "      <td>Solar water heating</td>\n",
       "      <td>Cavity wall insulation</td>\n",
       "      <td>Replace boiler with new condensing boiler</td>\n",
       "      <td>Solar photovoltaic panels, 2.5 kWp</td>\n",
       "      <td>NaN</td>\n",
       "    </tr>\n",
       "    <tr>\n",
       "      <th>1</th>\n",
       "      <td>House</td>\n",
       "      <td>175.0</td>\n",
       "      <td>1919-1929</td>\n",
       "      <td>Cavity wall, filled cavity</td>\n",
       "      <td>Pitched, insulated (assumed) | Roof room(s), i...</td>\n",
       "      <td>Suspended, no insulation (assumed)</td>\n",
       "      <td>Description: Fully double glazed</td>\n",
       "      <td>Boiler and radiators, mains gas</td>\n",
       "      <td>Low energy lighting in all fixed outlets</td>\n",
       "      <td>From main system</td>\n",
       "      <td>Solar photovoltaic panels, 2.5 kWp</td>\n",
       "      <td>Room-in-roof insulation</td>\n",
       "      <td>Replacement glazing units</td>\n",
       "      <td>Floor insulation (suspended floor)</td>\n",
       "      <td>NaN</td>\n",
       "      <td>NaN</td>\n",
       "      <td>NaN</td>\n",
       "      <td>NaN</td>\n",
       "    </tr>\n",
       "    <tr>\n",
       "      <th>2</th>\n",
       "      <td>Flat</td>\n",
       "      <td>72.0</td>\n",
       "      <td>1965-1975</td>\n",
       "      <td>Cavity wall, as built, partial insulation (ass...</td>\n",
       "      <td>(another dwelling above)</td>\n",
       "      <td>(another dwelling below)</td>\n",
       "      <td>Description: Single glazed</td>\n",
       "      <td>Electric storage heaters</td>\n",
       "      <td>Low energy lighting in 50% of fixed outlets</td>\n",
       "      <td>Electric immersion, off-peak</td>\n",
       "      <td>Add additional 80 mm jacket to hot water cylinder</td>\n",
       "      <td>High heat retention storage heaters and dual i...</td>\n",
       "      <td>Draughtproofing</td>\n",
       "      <td>Replace single glazed windows with low-E doubl...</td>\n",
       "      <td>Low energy lighting for all fixed outlets</td>\n",
       "      <td>Cavity wall insulation</td>\n",
       "      <td>NaN</td>\n",
       "      <td>NaN</td>\n",
       "    </tr>\n",
       "    <tr>\n",
       "      <th>3</th>\n",
       "      <td>House</td>\n",
       "      <td>96.0</td>\n",
       "      <td>1999-2002</td>\n",
       "      <td>Cavity wall, as built, insulated (assumed)</td>\n",
       "      <td>Pitched, 250 mm loft insulation</td>\n",
       "      <td>Suspended, insulated (assumed)</td>\n",
       "      <td>Description: Fully double glazed</td>\n",
       "      <td>Boiler and radiators, mains gas</td>\n",
       "      <td>Low energy lighting in all fixed outlets</td>\n",
       "      <td>From main system</td>\n",
       "      <td>Solar photovoltaic panels, 2.5 kWp</td>\n",
       "      <td>Solar water heating</td>\n",
       "      <td>NaN</td>\n",
       "      <td>NaN</td>\n",
       "      <td>NaN</td>\n",
       "      <td>NaN</td>\n",
       "      <td>NaN</td>\n",
       "      <td>NaN</td>\n",
       "    </tr>\n",
       "    <tr>\n",
       "      <th>4</th>\n",
       "      <td>Flat</td>\n",
       "      <td>58.0</td>\n",
       "      <td>before 1919</td>\n",
       "      <td>Sandstone or limestone, with internal insulati...</td>\n",
       "      <td>Pitched, 200 mm loft insulation</td>\n",
       "      <td>(another dwelling below)</td>\n",
       "      <td>Description: Fully double glazed</td>\n",
       "      <td>Boiler and radiators, mains gas</td>\n",
       "      <td>Low energy lighting in 90% of fixed outlets</td>\n",
       "      <td>From main system</td>\n",
       "      <td>NaN</td>\n",
       "      <td>NaN</td>\n",
       "      <td>NaN</td>\n",
       "      <td>NaN</td>\n",
       "      <td>NaN</td>\n",
       "      <td>NaN</td>\n",
       "      <td>NaN</td>\n",
       "      <td>NaN</td>\n",
       "    </tr>\n",
       "    <tr>\n",
       "      <th>...</th>\n",
       "      <td>...</td>\n",
       "      <td>...</td>\n",
       "      <td>...</td>\n",
       "      <td>...</td>\n",
       "      <td>...</td>\n",
       "      <td>...</td>\n",
       "      <td>...</td>\n",
       "      <td>...</td>\n",
       "      <td>...</td>\n",
       "      <td>...</td>\n",
       "      <td>...</td>\n",
       "      <td>...</td>\n",
       "      <td>...</td>\n",
       "      <td>...</td>\n",
       "      <td>...</td>\n",
       "      <td>...</td>\n",
       "      <td>...</td>\n",
       "      <td>...</td>\n",
       "    </tr>\n",
       "    <tr>\n",
       "      <th>185034</th>\n",
       "      <td>Bungalow</td>\n",
       "      <td>151.0</td>\n",
       "      <td>1930-1949</td>\n",
       "      <td>Cavity wall, as built, insulated (assumed) | C...</td>\n",
       "      <td>Pitched, 150 mm loft insulation | Roof room(s)...</td>\n",
       "      <td>Suspended, insulated (assumed) | Suspended, no...</td>\n",
       "      <td>Description: Fully double glazed</td>\n",
       "      <td>Boiler and radiators, mains gas</td>\n",
       "      <td>Low energy lighting in 85% of fixed outlets</td>\n",
       "      <td>From main system</td>\n",
       "      <td>Floor insulation (suspended floor)</td>\n",
       "      <td>Room-in-roof insulation</td>\n",
       "      <td>Solar photovoltaic panels, 2.5 kWp</td>\n",
       "      <td>NaN</td>\n",
       "      <td>NaN</td>\n",
       "      <td>NaN</td>\n",
       "      <td>NaN</td>\n",
       "      <td>NaN</td>\n",
       "    </tr>\n",
       "    <tr>\n",
       "      <th>185035</th>\n",
       "      <td>House</td>\n",
       "      <td>87.0</td>\n",
       "      <td>NaN</td>\n",
       "      <td>Cavity wall, as built, insulated (assumed)</td>\n",
       "      <td>Pitched, 270 mm loft insulation</td>\n",
       "      <td>Solid, insulated (assumed)</td>\n",
       "      <td>Description: Fully double glazed</td>\n",
       "      <td>Boiler and radiators, mains gas</td>\n",
       "      <td>Low energy lighting in 67% of fixed outlets</td>\n",
       "      <td>From main system</td>\n",
       "      <td>Solar water heating</td>\n",
       "      <td>Solar photovoltaic panels, 2.5 kWp</td>\n",
       "      <td>Low energy lighting for all fixed outlets</td>\n",
       "      <td>NaN</td>\n",
       "      <td>NaN</td>\n",
       "      <td>NaN</td>\n",
       "      <td>NaN</td>\n",
       "      <td>NaN</td>\n",
       "    </tr>\n",
       "    <tr>\n",
       "      <th>185036</th>\n",
       "      <td>Maisonette</td>\n",
       "      <td>112.0</td>\n",
       "      <td>1984-1991</td>\n",
       "      <td>Cavity wall, as built, insulated (assumed)</td>\n",
       "      <td>Pitched, insulated (assumed) | Roof room(s), i...</td>\n",
       "      <td>(another dwelling below)</td>\n",
       "      <td>Description: Fully double glazed</td>\n",
       "      <td>Boiler and radiators, mains gas</td>\n",
       "      <td>Low energy lighting in 81% of fixed outlets</td>\n",
       "      <td>From main system</td>\n",
       "      <td>NaN</td>\n",
       "      <td>NaN</td>\n",
       "      <td>NaN</td>\n",
       "      <td>NaN</td>\n",
       "      <td>NaN</td>\n",
       "      <td>NaN</td>\n",
       "      <td>NaN</td>\n",
       "      <td>NaN</td>\n",
       "    </tr>\n",
       "    <tr>\n",
       "      <th>185037</th>\n",
       "      <td>Flat</td>\n",
       "      <td>68.0</td>\n",
       "      <td>1965-1975</td>\n",
       "      <td>System built, as built, no insulation (assumed)</td>\n",
       "      <td>(another dwelling above)</td>\n",
       "      <td>(another dwelling below)</td>\n",
       "      <td>Description: Fully double glazed</td>\n",
       "      <td>Boiler and radiators, mains gas</td>\n",
       "      <td>Low energy lighting in all fixed outlets</td>\n",
       "      <td>From main system</td>\n",
       "      <td>NaN</td>\n",
       "      <td>NaN</td>\n",
       "      <td>NaN</td>\n",
       "      <td>NaN</td>\n",
       "      <td>NaN</td>\n",
       "      <td>NaN</td>\n",
       "      <td>NaN</td>\n",
       "      <td>NaN</td>\n",
       "    </tr>\n",
       "    <tr>\n",
       "      <th>185038</th>\n",
       "      <td>Flat</td>\n",
       "      <td>68.0</td>\n",
       "      <td>1965-1975</td>\n",
       "      <td>System built, as built, no insulation (assumed)</td>\n",
       "      <td>(another dwelling above)</td>\n",
       "      <td>(another dwelling below)</td>\n",
       "      <td>Description: Fully double glazed</td>\n",
       "      <td>Room heaters, electric</td>\n",
       "      <td>Low energy lighting in all fixed outlets</td>\n",
       "      <td>Electric immersion, off-peak</td>\n",
       "      <td>High heat retention storage heaters</td>\n",
       "      <td>NaN</td>\n",
       "      <td>NaN</td>\n",
       "      <td>NaN</td>\n",
       "      <td>NaN</td>\n",
       "      <td>NaN</td>\n",
       "      <td>NaN</td>\n",
       "      <td>NaN</td>\n",
       "    </tr>\n",
       "  </tbody>\n",
       "</table>\n",
       "<p>185039 rows × 18 columns</p>\n",
       "</div>"
      ],
      "text/plain": [
       "       Property Type  Total floor area (m²) Part 1 Construction Age Band  \\\n",
       "0              House                   94.0                    1930-1949   \n",
       "1              House                  175.0                    1919-1929   \n",
       "2               Flat                   72.0                    1965-1975   \n",
       "3              House                   96.0                    1999-2002   \n",
       "4               Flat                   58.0                  before 1919   \n",
       "...              ...                    ...                          ...   \n",
       "185034      Bungalow                  151.0                    1930-1949   \n",
       "185035         House                   87.0                          NaN   \n",
       "185036    Maisonette                  112.0                    1984-1991   \n",
       "185037          Flat                   68.0                    1965-1975   \n",
       "185038          Flat                   68.0                    1965-1975   \n",
       "\n",
       "                                         WALL_DESCRIPTION  \\\n",
       "0         Cavity wall, as built, no insulation (assumed)    \n",
       "1                             Cavity wall, filled cavity    \n",
       "2       Cavity wall, as built, partial insulation (ass...   \n",
       "3             Cavity wall, as built, insulated (assumed)    \n",
       "4       Sandstone or limestone, with internal insulati...   \n",
       "...                                                   ...   \n",
       "185034  Cavity wall, as built, insulated (assumed) | C...   \n",
       "185035        Cavity wall, as built, insulated (assumed)    \n",
       "185036        Cavity wall, as built, insulated (assumed)    \n",
       "185037   System built, as built, no insulation (assumed)    \n",
       "185038   System built, as built, no insulation (assumed)    \n",
       "\n",
       "                                         ROOF_DESCRIPTION  \\\n",
       "0                         Pitched, 25 mm loft insulation    \n",
       "1       Pitched, insulated (assumed) | Roof room(s), i...   \n",
       "2                               (another dwelling above)    \n",
       "3                        Pitched, 250 mm loft insulation    \n",
       "4                        Pitched, 200 mm loft insulation    \n",
       "...                                                   ...   \n",
       "185034  Pitched, 150 mm loft insulation | Roof room(s)...   \n",
       "185035                   Pitched, 270 mm loft insulation    \n",
       "185036  Pitched, insulated (assumed) | Roof room(s), i...   \n",
       "185037                          (another dwelling above)    \n",
       "185038                          (another dwelling above)    \n",
       "\n",
       "                                        FLOOR_DESCRIPTION  \\\n",
       "0                     Suspended, no insulation (assumed)    \n",
       "1                     Suspended, no insulation (assumed)    \n",
       "2                               (another dwelling below)    \n",
       "3                         Suspended, insulated (assumed)    \n",
       "4                               (another dwelling below)    \n",
       "...                                                   ...   \n",
       "185034  Suspended, insulated (assumed) | Suspended, no...   \n",
       "185035                        Solid, insulated (assumed)    \n",
       "185036                          (another dwelling below)    \n",
       "185037                          (another dwelling below)    \n",
       "185038                          (another dwelling below)    \n",
       "\n",
       "                      WINDOWS_DESCRIPTION              MAINHEAT_DESCRIPTION  \\\n",
       "0       Description: Fully double glazed   Boiler and radiators, mains gas    \n",
       "1       Description: Fully double glazed   Boiler and radiators, mains gas    \n",
       "2             Description: Single glazed          Electric storage heaters    \n",
       "3       Description: Fully double glazed   Boiler and radiators, mains gas    \n",
       "4       Description: Fully double glazed   Boiler and radiators, mains gas    \n",
       "...                                   ...                               ...   \n",
       "185034  Description: Fully double glazed   Boiler and radiators, mains gas    \n",
       "185035  Description: Fully double glazed   Boiler and radiators, mains gas    \n",
       "185036  Description: Fully double glazed   Boiler and radiators, mains gas    \n",
       "185037  Description: Fully double glazed   Boiler and radiators, mains gas    \n",
       "185038  Description: Fully double glazed            Room heaters, electric    \n",
       "\n",
       "                                LIGHTING_DESCRIPTION  \\\n",
       "0          Low energy lighting in all fixed outlets    \n",
       "1          Low energy lighting in all fixed outlets    \n",
       "2       Low energy lighting in 50% of fixed outlets    \n",
       "3          Low energy lighting in all fixed outlets    \n",
       "4       Low energy lighting in 90% of fixed outlets    \n",
       "...                                              ...   \n",
       "185034  Low energy lighting in 85% of fixed outlets    \n",
       "185035  Low energy lighting in 67% of fixed outlets    \n",
       "185036  Low energy lighting in 81% of fixed outlets    \n",
       "185037     Low energy lighting in all fixed outlets    \n",
       "185038     Low energy lighting in all fixed outlets    \n",
       "\n",
       "                             HOTWATER_DESCRIPTION  \\\n",
       "0       From main system, no cylinder thermostat    \n",
       "1                               From main system    \n",
       "2                   Electric immersion, off-peak    \n",
       "3                               From main system    \n",
       "4                               From main system    \n",
       "...                                           ...   \n",
       "185034                          From main system    \n",
       "185035                          From main system    \n",
       "185036                          From main system    \n",
       "185037                          From main system    \n",
       "185038              Electric immersion, off-peak    \n",
       "\n",
       "                                            Improvement_1  \\\n",
       "0                           Hot water cylinder thermostat   \n",
       "1                      Solar photovoltaic panels, 2.5 kWp   \n",
       "2       Add additional 80 mm jacket to hot water cylinder   \n",
       "3                      Solar photovoltaic panels, 2.5 kWp   \n",
       "4                                                     NaN   \n",
       "...                                                   ...   \n",
       "185034                 Floor insulation (suspended floor)   \n",
       "185035                                Solar water heating   \n",
       "185036                                                NaN   \n",
       "185037                                                NaN   \n",
       "185038                High heat retention storage heaters   \n",
       "\n",
       "                                            Improvement_2  \\\n",
       "0                      Increase loft insulation to 270 mm   \n",
       "1                                 Room-in-roof insulation   \n",
       "2       High heat retention storage heaters and dual i...   \n",
       "3                                     Solar water heating   \n",
       "4                                                     NaN   \n",
       "...                                                   ...   \n",
       "185034                            Room-in-roof insulation   \n",
       "185035                 Solar photovoltaic panels, 2.5 kWp   \n",
       "185036                                                NaN   \n",
       "185037                                                NaN   \n",
       "185038                                                NaN   \n",
       "\n",
       "                                    Improvement_3  \\\n",
       "0              Floor insulation (suspended floor)   \n",
       "1                       Replacement glazing units   \n",
       "2                                 Draughtproofing   \n",
       "3                                             NaN   \n",
       "4                                             NaN   \n",
       "...                                           ...   \n",
       "185034         Solar photovoltaic panels, 2.5 kWp   \n",
       "185035  Low energy lighting for all fixed outlets   \n",
       "185036                                        NaN   \n",
       "185037                                        NaN   \n",
       "185038                                        NaN   \n",
       "\n",
       "                                            Improvement_4  \\\n",
       "0                                     Solar water heating   \n",
       "1                      Floor insulation (suspended floor)   \n",
       "2       Replace single glazed windows with low-E doubl...   \n",
       "3                                                     NaN   \n",
       "4                                                     NaN   \n",
       "...                                                   ...   \n",
       "185034                                                NaN   \n",
       "185035                                                NaN   \n",
       "185036                                                NaN   \n",
       "185037                                                NaN   \n",
       "185038                                                NaN   \n",
       "\n",
       "                                    Improvement_5  \\\n",
       "0                          Cavity wall insulation   \n",
       "1                                             NaN   \n",
       "2       Low energy lighting for all fixed outlets   \n",
       "3                                             NaN   \n",
       "4                                             NaN   \n",
       "...                                           ...   \n",
       "185034                                        NaN   \n",
       "185035                                        NaN   \n",
       "185036                                        NaN   \n",
       "185037                                        NaN   \n",
       "185038                                        NaN   \n",
       "\n",
       "                                    Improvement_6  \\\n",
       "0       Replace boiler with new condensing boiler   \n",
       "1                                             NaN   \n",
       "2                          Cavity wall insulation   \n",
       "3                                             NaN   \n",
       "4                                             NaN   \n",
       "...                                           ...   \n",
       "185034                                        NaN   \n",
       "185035                                        NaN   \n",
       "185036                                        NaN   \n",
       "185037                                        NaN   \n",
       "185038                                        NaN   \n",
       "\n",
       "                             Improvement_7 Improvement_8  \n",
       "0       Solar photovoltaic panels, 2.5 kWp           NaN  \n",
       "1                                      NaN           NaN  \n",
       "2                                      NaN           NaN  \n",
       "3                                      NaN           NaN  \n",
       "4                                      NaN           NaN  \n",
       "...                                    ...           ...  \n",
       "185034                                 NaN           NaN  \n",
       "185035                                 NaN           NaN  \n",
       "185036                                 NaN           NaN  \n",
       "185037                                 NaN           NaN  \n",
       "185038                                 NaN           NaN  \n",
       "\n",
       "[185039 rows x 18 columns]"
      ]
     },
     "execution_count": 61,
     "metadata": {},
     "output_type": "execute_result"
    }
   ],
   "source": [
    "data"
   ]
  },
  {
   "cell_type": "code",
   "execution_count": null,
   "id": "c756fd72",
   "metadata": {},
   "outputs": [],
   "source": []
  }
 ],
 "metadata": {
  "kernelspec": {
   "display_name": "Python 3 (ipykernel)",
   "language": "python",
   "name": "python3"
  },
  "language_info": {
   "codemirror_mode": {
    "name": "ipython",
    "version": 3
   },
   "file_extension": ".py",
   "mimetype": "text/x-python",
   "name": "python",
   "nbconvert_exporter": "python",
   "pygments_lexer": "ipython3",
   "version": "3.9.12"
  }
 },
 "nbformat": 4,
 "nbformat_minor": 5
}
